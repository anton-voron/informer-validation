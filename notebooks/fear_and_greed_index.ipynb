{
 "cells": [
  {
   "cell_type": "code",
   "execution_count": 1,
   "id": "b728b041",
   "metadata": {},
   "outputs": [
    {
     "name": "stdout",
     "output_type": "stream",
     "text": [
      "Fetching Fear & Greed Index history…\n",
      "Total records fetched: 2740\n"
     ]
    },
    {
     "data": {
      "application/vnd.microsoft.datawrangler.viewer.v0+json": {
       "columns": [
        {
         "name": "index",
         "rawType": "int64",
         "type": "integer"
        },
        {
         "name": "datetime",
         "rawType": "datetime64[ns]",
         "type": "datetime"
        },
        {
         "name": "value",
         "rawType": "int64",
         "type": "integer"
        },
        {
         "name": "value_classification",
         "rawType": "object",
         "type": "string"
        }
       ],
       "ref": "34ba1945-e593-4d48-871a-868fadf52038",
       "rows": [
        [
         "0",
         "2018-02-01 00:00:00",
         "30",
         "Fear"
        ],
        [
         "1",
         "2018-02-02 00:00:00",
         "15",
         "Extreme Fear"
        ],
        [
         "2",
         "2018-02-03 00:00:00",
         "40",
         "Fear"
        ],
        [
         "3",
         "2018-02-04 00:00:00",
         "24",
         "Extreme Fear"
        ],
        [
         "4",
         "2018-02-05 00:00:00",
         "11",
         "Extreme Fear"
        ],
        [
         "5",
         "2018-02-06 00:00:00",
         "8",
         "Extreme Fear"
        ],
        [
         "6",
         "2018-02-07 00:00:00",
         "36",
         "Fear"
        ],
        [
         "7",
         "2018-02-08 00:00:00",
         "30",
         "Fear"
        ],
        [
         "8",
         "2018-02-09 00:00:00",
         "44",
         "Fear"
        ],
        [
         "9",
         "2018-02-10 00:00:00",
         "54",
         "Neutral"
        ],
        [
         "10",
         "2018-02-11 00:00:00",
         "31",
         "Fear"
        ],
        [
         "11",
         "2018-02-12 00:00:00",
         "42",
         "Fear"
        ],
        [
         "12",
         "2018-02-13 00:00:00",
         "35",
         "Fear"
        ],
        [
         "13",
         "2018-02-14 00:00:00",
         "55",
         "Greed"
        ],
        [
         "14",
         "2018-02-15 00:00:00",
         "71",
         "Greed"
        ],
        [
         "15",
         "2018-02-16 00:00:00",
         "67",
         "Greed"
        ],
        [
         "16",
         "2018-02-17 00:00:00",
         "74",
         "Greed"
        ],
        [
         "17",
         "2018-02-18 00:00:00",
         "63",
         "Greed"
        ],
        [
         "18",
         "2018-02-19 00:00:00",
         "67",
         "Greed"
        ],
        [
         "19",
         "2018-02-20 00:00:00",
         "74",
         "Greed"
        ],
        [
         "20",
         "2018-02-21 00:00:00",
         "54",
         "Neutral"
        ],
        [
         "21",
         "2018-02-22 00:00:00",
         "44",
         "Fear"
        ],
        [
         "22",
         "2018-02-23 00:00:00",
         "39",
         "Fear"
        ],
        [
         "23",
         "2018-02-24 00:00:00",
         "31",
         "Fear"
        ],
        [
         "24",
         "2018-02-25 00:00:00",
         "33",
         "Fear"
        ],
        [
         "25",
         "2018-02-26 00:00:00",
         "37",
         "Fear"
        ],
        [
         "26",
         "2018-02-27 00:00:00",
         "44",
         "Fear"
        ],
        [
         "27",
         "2018-02-28 00:00:00",
         "41",
         "Fear"
        ],
        [
         "28",
         "2018-03-01 00:00:00",
         "38",
         "Fear"
        ],
        [
         "29",
         "2018-03-02 00:00:00",
         "47",
         "Neutral"
        ],
        [
         "30",
         "2018-03-03 00:00:00",
         "56",
         "Greed"
        ],
        [
         "31",
         "2018-03-04 00:00:00",
         "44",
         "Fear"
        ],
        [
         "32",
         "2018-03-05 00:00:00",
         "55",
         "Greed"
        ],
        [
         "33",
         "2018-03-06 00:00:00",
         "59",
         "Greed"
        ],
        [
         "34",
         "2018-03-07 00:00:00",
         "37",
         "Fear"
        ],
        [
         "35",
         "2018-03-08 00:00:00",
         "39",
         "Fear"
        ],
        [
         "36",
         "2018-03-09 00:00:00",
         "37",
         "Fear"
        ],
        [
         "37",
         "2018-03-10 00:00:00",
         "39",
         "Fear"
        ],
        [
         "38",
         "2018-03-11 00:00:00",
         "40",
         "Fear"
        ],
        [
         "39",
         "2018-03-12 00:00:00",
         "41",
         "Fear"
        ],
        [
         "40",
         "2018-03-13 00:00:00",
         "41",
         "Fear"
        ],
        [
         "41",
         "2018-03-14 00:00:00",
         "40",
         "Fear"
        ],
        [
         "42",
         "2018-03-15 00:00:00",
         "32",
         "Fear"
        ],
        [
         "43",
         "2018-03-16 00:00:00",
         "33",
         "Fear"
        ],
        [
         "44",
         "2018-03-17 00:00:00",
         "31",
         "Fear"
        ],
        [
         "45",
         "2018-03-18 00:00:00",
         "29",
         "Fear"
        ],
        [
         "46",
         "2018-03-19 00:00:00",
         "29",
         "Fear"
        ],
        [
         "47",
         "2018-03-20 00:00:00",
         "37",
         "Fear"
        ],
        [
         "48",
         "2018-03-21 00:00:00",
         "36",
         "Fear"
        ],
        [
         "49",
         "2018-03-22 00:00:00",
         "36",
         "Fear"
        ]
       ],
       "shape": {
        "columns": 3,
        "rows": 2740
       }
      },
      "text/html": [
       "<div>\n",
       "<style scoped>\n",
       "    .dataframe tbody tr th:only-of-type {\n",
       "        vertical-align: middle;\n",
       "    }\n",
       "\n",
       "    .dataframe tbody tr th {\n",
       "        vertical-align: top;\n",
       "    }\n",
       "\n",
       "    .dataframe thead th {\n",
       "        text-align: right;\n",
       "    }\n",
       "</style>\n",
       "<table border=\"1\" class=\"dataframe\">\n",
       "  <thead>\n",
       "    <tr style=\"text-align: right;\">\n",
       "      <th></th>\n",
       "      <th>datetime</th>\n",
       "      <th>value</th>\n",
       "      <th>value_classification</th>\n",
       "    </tr>\n",
       "  </thead>\n",
       "  <tbody>\n",
       "    <tr>\n",
       "      <th>0</th>\n",
       "      <td>2018-02-01</td>\n",
       "      <td>30</td>\n",
       "      <td>Fear</td>\n",
       "    </tr>\n",
       "    <tr>\n",
       "      <th>1</th>\n",
       "      <td>2018-02-02</td>\n",
       "      <td>15</td>\n",
       "      <td>Extreme Fear</td>\n",
       "    </tr>\n",
       "    <tr>\n",
       "      <th>2</th>\n",
       "      <td>2018-02-03</td>\n",
       "      <td>40</td>\n",
       "      <td>Fear</td>\n",
       "    </tr>\n",
       "    <tr>\n",
       "      <th>3</th>\n",
       "      <td>2018-02-04</td>\n",
       "      <td>24</td>\n",
       "      <td>Extreme Fear</td>\n",
       "    </tr>\n",
       "    <tr>\n",
       "      <th>4</th>\n",
       "      <td>2018-02-05</td>\n",
       "      <td>11</td>\n",
       "      <td>Extreme Fear</td>\n",
       "    </tr>\n",
       "    <tr>\n",
       "      <th>...</th>\n",
       "      <td>...</td>\n",
       "      <td>...</td>\n",
       "      <td>...</td>\n",
       "    </tr>\n",
       "    <tr>\n",
       "      <th>2735</th>\n",
       "      <td>2025-08-02</td>\n",
       "      <td>55</td>\n",
       "      <td>Greed</td>\n",
       "    </tr>\n",
       "    <tr>\n",
       "      <th>2736</th>\n",
       "      <td>2025-08-03</td>\n",
       "      <td>53</td>\n",
       "      <td>Neutral</td>\n",
       "    </tr>\n",
       "    <tr>\n",
       "      <th>2737</th>\n",
       "      <td>2025-08-04</td>\n",
       "      <td>64</td>\n",
       "      <td>Greed</td>\n",
       "    </tr>\n",
       "    <tr>\n",
       "      <th>2738</th>\n",
       "      <td>2025-08-05</td>\n",
       "      <td>60</td>\n",
       "      <td>Greed</td>\n",
       "    </tr>\n",
       "    <tr>\n",
       "      <th>2739</th>\n",
       "      <td>2025-08-06</td>\n",
       "      <td>54</td>\n",
       "      <td>Neutral</td>\n",
       "    </tr>\n",
       "  </tbody>\n",
       "</table>\n",
       "<p>2740 rows × 3 columns</p>\n",
       "</div>"
      ],
      "text/plain": [
       "       datetime  value value_classification\n",
       "0    2018-02-01     30                 Fear\n",
       "1    2018-02-02     15         Extreme Fear\n",
       "2    2018-02-03     40                 Fear\n",
       "3    2018-02-04     24         Extreme Fear\n",
       "4    2018-02-05     11         Extreme Fear\n",
       "...         ...    ...                  ...\n",
       "2735 2025-08-02     55                Greed\n",
       "2736 2025-08-03     53              Neutral\n",
       "2737 2025-08-04     64                Greed\n",
       "2738 2025-08-05     60                Greed\n",
       "2739 2025-08-06     54              Neutral\n",
       "\n",
       "[2740 rows x 3 columns]"
      ]
     },
     "execution_count": 1,
     "metadata": {},
     "output_type": "execute_result"
    }
   ],
   "source": [
    "import requests\n",
    "import pandas as pd\n",
    "from datetime import datetime, date\n",
    "\n",
    "API_URL = \"https://api.alternative.me/fng/?limit=0&format=json&date_format=world\"\n",
    "OUTPUT_CSV = \"/Users/apple/Desktop/time-series/informer-validation/data/fear_greed_index.csv\"\n",
    "\n",
    "\n",
    "def fetch_fng_history() -> pd.DataFrame:\n",
    "    \"\"\"Fetch full F&G history and return as a DataFrame.\"\"\"\n",
    "    resp = requests.get(API_URL, timeout=10)\n",
    "    resp.raise_for_status()\n",
    "    data = resp.json().get(\"data\", [])\n",
    "    \n",
    "    # Build DataFrame\n",
    "    df = pd.DataFrame(data)\n",
    "    \n",
    "    # Parse the timestamp column which contains date strings (e.g., '06-08-2025')\n",
    "    df[\"datetime\"] = pd.to_datetime(df[\"timestamp\"], format=\"%d-%m-%Y\").dt.date\n",
    "    df[\"datetime\"] = pd.to_datetime(df[\"datetime\"])\n",
    "    \n",
    "    # Convert numeric fields\n",
    "    df[\"value\"] = pd.to_numeric(df[\"value\"], errors='coerce')\n",
    "    df[\"value_classification\"] = df[\"value_classification\"].astype(str)\n",
    "    \n",
    "    # Keep only relevant columns (and sort ascending by date)\n",
    "    df = df[[\"datetime\", \"value\", \"value_classification\"]].sort_values(\"datetime\").reset_index(drop=True)\n",
    "    return df\n",
    "\n",
    "\n",
    "\n",
    "print(\"Fetching Fear & Greed Index history…\")\n",
    "df = fetch_fng_history()\n",
    "print(f\"Total records fetched: {len(df)}\")\n",
    "\n",
    "\n",
    "df.to_csv(OUTPUT_CSV, index=False)\n",
    "\n",
    "df"
   ]
  },
  {
   "cell_type": "code",
   "execution_count": 2,
   "id": "b7bbea86",
   "metadata": {},
   "outputs": [
    {
     "data": {
      "application/vnd.microsoft.datawrangler.viewer.v0+json": {
       "columns": [
        {
         "name": "index",
         "rawType": "int64",
         "type": "integer"
        },
        {
         "name": "datetime",
         "rawType": "datetime64[ns]",
         "type": "datetime"
        },
        {
         "name": "value",
         "rawType": "int64",
         "type": "integer"
        },
        {
         "name": "value_classification",
         "rawType": "object",
         "type": "string"
        }
       ],
       "ref": "cc83d5d7-fa92-4d5e-8ab4-f2d6a3a61724",
       "rows": [
        [
         "0",
         "2018-02-01 00:00:00",
         "30",
         "Fear"
        ],
        [
         "1",
         "2018-02-02 00:00:00",
         "15",
         "Extreme Fear"
        ],
        [
         "2",
         "2018-02-03 00:00:00",
         "40",
         "Fear"
        ],
        [
         "3",
         "2018-02-04 00:00:00",
         "24",
         "Extreme Fear"
        ],
        [
         "4",
         "2018-02-05 00:00:00",
         "11",
         "Extreme Fear"
        ],
        [
         "5",
         "2018-02-06 00:00:00",
         "8",
         "Extreme Fear"
        ],
        [
         "6",
         "2018-02-07 00:00:00",
         "36",
         "Fear"
        ],
        [
         "7",
         "2018-02-08 00:00:00",
         "30",
         "Fear"
        ],
        [
         "8",
         "2018-02-09 00:00:00",
         "44",
         "Fear"
        ],
        [
         "9",
         "2018-02-10 00:00:00",
         "54",
         "Neutral"
        ],
        [
         "10",
         "2018-02-11 00:00:00",
         "31",
         "Fear"
        ],
        [
         "11",
         "2018-02-12 00:00:00",
         "42",
         "Fear"
        ],
        [
         "12",
         "2018-02-13 00:00:00",
         "35",
         "Fear"
        ],
        [
         "13",
         "2018-02-14 00:00:00",
         "55",
         "Greed"
        ],
        [
         "14",
         "2018-02-15 00:00:00",
         "71",
         "Greed"
        ],
        [
         "15",
         "2018-02-16 00:00:00",
         "67",
         "Greed"
        ],
        [
         "16",
         "2018-02-17 00:00:00",
         "74",
         "Greed"
        ],
        [
         "17",
         "2018-02-18 00:00:00",
         "63",
         "Greed"
        ],
        [
         "18",
         "2018-02-19 00:00:00",
         "67",
         "Greed"
        ],
        [
         "19",
         "2018-02-20 00:00:00",
         "74",
         "Greed"
        ],
        [
         "20",
         "2018-02-21 00:00:00",
         "54",
         "Neutral"
        ],
        [
         "21",
         "2018-02-22 00:00:00",
         "44",
         "Fear"
        ],
        [
         "22",
         "2018-02-23 00:00:00",
         "39",
         "Fear"
        ],
        [
         "23",
         "2018-02-24 00:00:00",
         "31",
         "Fear"
        ],
        [
         "24",
         "2018-02-25 00:00:00",
         "33",
         "Fear"
        ],
        [
         "25",
         "2018-02-26 00:00:00",
         "37",
         "Fear"
        ],
        [
         "26",
         "2018-02-27 00:00:00",
         "44",
         "Fear"
        ],
        [
         "27",
         "2018-02-28 00:00:00",
         "41",
         "Fear"
        ],
        [
         "28",
         "2018-03-01 00:00:00",
         "38",
         "Fear"
        ],
        [
         "29",
         "2018-03-02 00:00:00",
         "47",
         "Neutral"
        ],
        [
         "30",
         "2018-03-03 00:00:00",
         "56",
         "Greed"
        ],
        [
         "31",
         "2018-03-04 00:00:00",
         "44",
         "Fear"
        ],
        [
         "32",
         "2018-03-05 00:00:00",
         "55",
         "Greed"
        ],
        [
         "33",
         "2018-03-06 00:00:00",
         "59",
         "Greed"
        ],
        [
         "34",
         "2018-03-07 00:00:00",
         "37",
         "Fear"
        ],
        [
         "35",
         "2018-03-08 00:00:00",
         "39",
         "Fear"
        ],
        [
         "36",
         "2018-03-09 00:00:00",
         "37",
         "Fear"
        ],
        [
         "37",
         "2018-03-10 00:00:00",
         "39",
         "Fear"
        ],
        [
         "38",
         "2018-03-11 00:00:00",
         "40",
         "Fear"
        ],
        [
         "39",
         "2018-03-12 00:00:00",
         "41",
         "Fear"
        ],
        [
         "40",
         "2018-03-13 00:00:00",
         "41",
         "Fear"
        ],
        [
         "41",
         "2018-03-14 00:00:00",
         "40",
         "Fear"
        ],
        [
         "42",
         "2018-03-15 00:00:00",
         "32",
         "Fear"
        ],
        [
         "43",
         "2018-03-16 00:00:00",
         "33",
         "Fear"
        ],
        [
         "44",
         "2018-03-17 00:00:00",
         "31",
         "Fear"
        ],
        [
         "45",
         "2018-03-18 00:00:00",
         "29",
         "Fear"
        ],
        [
         "46",
         "2018-03-19 00:00:00",
         "29",
         "Fear"
        ],
        [
         "47",
         "2018-03-20 00:00:00",
         "37",
         "Fear"
        ],
        [
         "48",
         "2018-03-21 00:00:00",
         "36",
         "Fear"
        ],
        [
         "49",
         "2018-03-22 00:00:00",
         "36",
         "Fear"
        ]
       ],
       "shape": {
        "columns": 3,
        "rows": 2740
       }
      },
      "text/html": [
       "<div>\n",
       "<style scoped>\n",
       "    .dataframe tbody tr th:only-of-type {\n",
       "        vertical-align: middle;\n",
       "    }\n",
       "\n",
       "    .dataframe tbody tr th {\n",
       "        vertical-align: top;\n",
       "    }\n",
       "\n",
       "    .dataframe thead th {\n",
       "        text-align: right;\n",
       "    }\n",
       "</style>\n",
       "<table border=\"1\" class=\"dataframe\">\n",
       "  <thead>\n",
       "    <tr style=\"text-align: right;\">\n",
       "      <th></th>\n",
       "      <th>datetime</th>\n",
       "      <th>value</th>\n",
       "      <th>value_classification</th>\n",
       "    </tr>\n",
       "  </thead>\n",
       "  <tbody>\n",
       "    <tr>\n",
       "      <th>0</th>\n",
       "      <td>2018-02-01</td>\n",
       "      <td>30</td>\n",
       "      <td>Fear</td>\n",
       "    </tr>\n",
       "    <tr>\n",
       "      <th>1</th>\n",
       "      <td>2018-02-02</td>\n",
       "      <td>15</td>\n",
       "      <td>Extreme Fear</td>\n",
       "    </tr>\n",
       "    <tr>\n",
       "      <th>2</th>\n",
       "      <td>2018-02-03</td>\n",
       "      <td>40</td>\n",
       "      <td>Fear</td>\n",
       "    </tr>\n",
       "    <tr>\n",
       "      <th>3</th>\n",
       "      <td>2018-02-04</td>\n",
       "      <td>24</td>\n",
       "      <td>Extreme Fear</td>\n",
       "    </tr>\n",
       "    <tr>\n",
       "      <th>4</th>\n",
       "      <td>2018-02-05</td>\n",
       "      <td>11</td>\n",
       "      <td>Extreme Fear</td>\n",
       "    </tr>\n",
       "    <tr>\n",
       "      <th>...</th>\n",
       "      <td>...</td>\n",
       "      <td>...</td>\n",
       "      <td>...</td>\n",
       "    </tr>\n",
       "    <tr>\n",
       "      <th>2735</th>\n",
       "      <td>2025-08-02</td>\n",
       "      <td>55</td>\n",
       "      <td>Greed</td>\n",
       "    </tr>\n",
       "    <tr>\n",
       "      <th>2736</th>\n",
       "      <td>2025-08-03</td>\n",
       "      <td>53</td>\n",
       "      <td>Neutral</td>\n",
       "    </tr>\n",
       "    <tr>\n",
       "      <th>2737</th>\n",
       "      <td>2025-08-04</td>\n",
       "      <td>64</td>\n",
       "      <td>Greed</td>\n",
       "    </tr>\n",
       "    <tr>\n",
       "      <th>2738</th>\n",
       "      <td>2025-08-05</td>\n",
       "      <td>60</td>\n",
       "      <td>Greed</td>\n",
       "    </tr>\n",
       "    <tr>\n",
       "      <th>2739</th>\n",
       "      <td>2025-08-06</td>\n",
       "      <td>54</td>\n",
       "      <td>Neutral</td>\n",
       "    </tr>\n",
       "  </tbody>\n",
       "</table>\n",
       "<p>2740 rows × 3 columns</p>\n",
       "</div>"
      ],
      "text/plain": [
       "       datetime  value value_classification\n",
       "0    2018-02-01     30                 Fear\n",
       "1    2018-02-02     15         Extreme Fear\n",
       "2    2018-02-03     40                 Fear\n",
       "3    2018-02-04     24         Extreme Fear\n",
       "4    2018-02-05     11         Extreme Fear\n",
       "...         ...    ...                  ...\n",
       "2735 2025-08-02     55                Greed\n",
       "2736 2025-08-03     53              Neutral\n",
       "2737 2025-08-04     64                Greed\n",
       "2738 2025-08-05     60                Greed\n",
       "2739 2025-08-06     54              Neutral\n",
       "\n",
       "[2740 rows x 3 columns]"
      ]
     },
     "execution_count": 2,
     "metadata": {},
     "output_type": "execute_result"
    }
   ],
   "source": [
    "df = pd.read_csv(OUTPUT_CSV, parse_dates=[\"datetime\"])\n",
    "df"
   ]
  }
 ],
 "metadata": {
  "kernelspec": {
   "display_name": "Python 3",
   "language": "python",
   "name": "python3"
  },
  "language_info": {
   "codemirror_mode": {
    "name": "ipython",
    "version": 3
   },
   "file_extension": ".py",
   "mimetype": "text/x-python",
   "name": "python",
   "nbconvert_exporter": "python",
   "pygments_lexer": "ipython3",
   "version": "3.11.13"
  }
 },
 "nbformat": 4,
 "nbformat_minor": 5
}
